{
 "cells": [
  {
   "cell_type": "markdown",
   "id": "2f72004c-e596-487a-96bd-f450dcd8ad75",
   "metadata": {},
   "source": [
    "<span style=\"color:#8000C0\"><tt><b> Version 1.30 - 2024, October, 6 <br>\n",
    "Project : SysTherLin (Systèmes thermiques linéaires)<br>\n",
    "Copyright (Eric Ducasse 2018)<br>\n",
    "Licensed under the EUPL-1.2 or later<br>\n",
    "Institution : ENSAM / I2M </b></tt></span>"
   ]
  },
  {
   "cell_type": "code",
   "execution_count": 1,
   "id": "90112be9-fbbf-43c1-899d-64ae166e6a12",
   "metadata": {},
   "outputs": [],
   "source": [
    "import numpy as np\n",
    "import matplotlib.pyplot as plt"
   ]
  },
  {
   "cell_type": "markdown",
   "id": "d67d9eb0-71c8-4504-86b5-d24d0ae2b047",
   "metadata": {},
   "source": [
    "* Pour pouvoir importer les classes du code SysTherLin :"
   ]
  },
  {
   "cell_type": "code",
   "execution_count": 2,
   "id": "23d57909-1036-4719-85c7-bdaada57d47c",
   "metadata": {},
   "outputs": [],
   "source": [
    "import os,sys\n",
    "rel_sys_ther_lin_path = \"..\" # Chemin relatif du dossier SysTherLin\n",
    "abs_sys_ther_lin_path = os.path.abspath(rel_sys_ther_lin_path)\n",
    "sys.path.append(abs_sys_ther_lin_path)"
   ]
  },
  {
   "cell_type": "markdown",
   "id": "8b18a633-3031-4bf3-9393-646716a55281",
   "metadata": {},
   "source": [
    "* Importation des classes du code SysTherLin :"
   ]
  },
  {
   "cell_type": "code",
   "execution_count": 3,
   "id": "5e38c567-d5ff-4a5d-aec6-6bb7a418326c",
   "metadata": {},
   "outputs": [],
   "source": [
    "try :\n",
    "    from Couches_conductrices import CoucheConductrice,Multicouche\n",
    "    from Systemes_thermiques_lineaires import (Cavite, SystemeThermiqueLineaire)\n",
    "except Exception as err :\n",
    "    print(f\"Erreur : '{err}'\")\n",
    "    raise ValueError(f\"Dossier '{abs_sys_ther_lin_path}' incorrect\")"
   ]
  },
  {
   "cell_type": "markdown",
   "id": "3306d63c-6369-47a5-acd7-90986c9baa81",
   "metadata": {},
   "source": [
    "# <span style=\"color:#C00000;font-size:22px;font-weight:bold\">EXEMPLE N°1 : AQUARIUM AVEC UN SYSTÈME DE CHAUFFAGE</span>"
   ]
  },
  {
   "cell_type": "markdown",
   "id": "a483c563-e4ca-44a8-829d-f74f03b61c3f",
   "metadata": {},
   "source": [
    "## <span style=\"color:#008000;font-size:20px;font-weight:bold\">Étape 1 : Définition des couches conductrices</span>"
   ]
  },
  {
   "cell_type": "markdown",
   "id": "6d0f69b3-1c3f-4671-867a-33ae1bbc8526",
   "metadata": {},
   "source": [
    "* Température initiale commune ici à tous les éléments"
   ]
  },
  {
   "cell_type": "code",
   "execution_count": 4,
   "id": "aecec1de-10a6-40bd-92e2-099e86bdfa7b",
   "metadata": {},
   "outputs": [],
   "source": [
    "T0 = 15.0 # °C"
   ]
  },
  {
   "cell_type": "markdown",
   "id": "7fba24cd-f1ad-4214-9d27-893827a9f97d",
   "metadata": {},
   "source": [
    "* Couche d'inox du socle de l'aquarium"
   ]
  },
  {
   "cell_type": "code",
   "execution_count": 5,
   "id": "9f9f3c4d-58f7-4f96-a6eb-6bb07d5b0d41",
   "metadata": {},
   "outputs": [
    {
     "name": "stdout",
     "output_type": "stream",
     "text": [
      "Couche conductrice de paramètres :\n",
      "\tConductivité : 16.50 W/K/m\n",
      "\tMasse volumique : 8000.00 kg/m³\n",
      "\tCapacité calorique : 500.00 J/K/kg\n",
      "\tÉpaisseur : 3.00 mm\n",
      "\tConstante de temps : 1.09 s\n",
      "\tTempérature initiale : 15.00 °C\n"
     ]
    }
   ],
   "source": [
    "inox = CoucheConductrice(16.5, 8000.0, 500.0, 3.0e-3, T0)\n",
    "print(inox)"
   ]
  },
  {
   "cell_type": "markdown",
   "id": "f40dc723-8962-441d-8bc8-f9a87c9b4782",
   "metadata": {},
   "source": [
    "* Couche de verre du socle de l'aquarium"
   ]
  },
  {
   "cell_type": "code",
   "execution_count": 6,
   "id": "cc07328a-5c86-40d4-a89a-4cca686204cc",
   "metadata": {},
   "outputs": [
    {
     "name": "stdout",
     "output_type": "stream",
     "text": [
      "Couche conductrice de paramètres :\n",
      "\tConductivité : 1.00 W/K/m\n",
      "\tMasse volumique : 2800.00 kg/m³\n",
      "\tCapacité calorique : 1000.00 J/K/kg\n",
      "\tÉpaisseur : 4.00 mm\n",
      "\tConstante de temps : 22.40 s\n",
      "\tTempérature initiale : 15.00 °C\n"
     ]
    }
   ],
   "source": [
    "verre_socle =  CoucheConductrice(1.0, 2800.0, 1000.0, 4.0e-3, T0)\n",
    "print(verre_socle)"
   ]
  },
  {
   "cell_type": "markdown",
   "id": "038344cc-54f1-43a7-aeeb-d240cb801745",
   "metadata": {},
   "source": [
    "* Couche de verre des autres parois"
   ]
  },
  {
   "cell_type": "code",
   "execution_count": 7,
   "id": "0a374396-015f-4d38-a3bf-626a25e05943",
   "metadata": {},
   "outputs": [
    {
     "name": "stdout",
     "output_type": "stream",
     "text": [
      "Couche conductrice de paramètres :\n",
      "\tConductivité : 1.00 W/K/m\n",
      "\tMasse volumique : 2800.00 kg/m³\n",
      "\tCapacité calorique : 1000.00 J/K/kg\n",
      "\tÉpaisseur : 8.00 mm\n",
      "\tConstante de temps : 89.60 s\n",
      "\tTempérature initiale : 15.00 °C\n"
     ]
    }
   ],
   "source": [
    "verre_coque =  CoucheConductrice(1.0, 2800.0, 1000.0, 8.0e-3, T0)\n",
    "print(verre_coque)"
   ]
  },
  {
   "cell_type": "markdown",
   "id": "32afe54f-221f-491d-b97e-c6e6b947b59d",
   "metadata": {},
   "source": [
    "## <span style=\"color:#008000;font-size:20px;font-weight:bold\">Étape 2 : Définition des multicouches avec conditions aux bords</span>"
   ]
  },
  {
   "cell_type": "markdown",
   "id": "6178801a-ca76-4380-967d-16ddd780e97d",
   "metadata": {},
   "source": [
    "## <span style=\"color:#A000A0;font-size:18px\">2.1 $-$ Socle avec système de chauffage en dessous</span>"
   ]
  },
  {
   "cell_type": "code",
   "execution_count": 8,
   "id": "6b5a6f07-0abc-4e1e-a556-13e99d97ebe2",
   "metadata": {},
   "outputs": [],
   "source": [
    "socle = Multicouche([inox, verre_socle])"
   ]
  },
  {
   "cell_type": "code",
   "execution_count": 9,
   "id": "d5a333d4-9378-4edc-8cdb-5ffd5d680962",
   "metadata": {},
   "outputs": [],
   "source": [
    "socle.definir_CL(\"G\", \"Neumann\") # Côté chauffage"
   ]
  },
  {
   "cell_type": "code",
   "execution_count": 10,
   "id": "0f5347ad-1b43-4bad-839e-222b4b3272da",
   "metadata": {},
   "outputs": [],
   "source": [
    "socle.definir_CL(\"D\", \"Convection\",200.0) # Côté eau (cavité)"
   ]
  },
  {
   "cell_type": "code",
   "execution_count": 11,
   "id": "3fde41c3-fce9-449f-8019-c6db2cc711fb",
   "metadata": {},
   "outputs": [
    {
     "name": "stdout",
     "output_type": "stream",
     "text": [
      "Multicouche à 2 couche(s) conductrice(s) \n",
      "\td'épaisseur(s) en millimètres : [3.0, 4.0]\n",
      "\tCondition limite à gauche : \"Neumann\"\n",
      "\tCondition limite à droite : \"Convection\"\n"
     ]
    }
   ],
   "source": [
    "print(socle)"
   ]
  },
  {
   "cell_type": "markdown",
   "id": "3af50647-d34e-49c0-bcef-d068fbc75eba",
   "metadata": {},
   "source": [
    "## <span style=\"color:#A000A0;font-size:18px\">2.2 $-$ Toutes les autres parois</span>"
   ]
  },
  {
   "cell_type": "code",
   "execution_count": 12,
   "id": "698922b9-7c6c-4f79-a3d5-38d86c66eb10",
   "metadata": {},
   "outputs": [],
   "source": [
    "coque = Multicouche([verre_coque])"
   ]
  },
  {
   "cell_type": "code",
   "execution_count": 13,
   "id": "adf15107-6f3d-4eb2-8e2d-dd210224bd8e",
   "metadata": {},
   "outputs": [],
   "source": [
    "coque.definir_CL(\"G\", \"Convection\", 200.0) # Côté eau (cavité)"
   ]
  },
  {
   "cell_type": "code",
   "execution_count": 14,
   "id": "148c0e1b-a4bd-45f5-b29d-dc97df793350",
   "metadata": {},
   "outputs": [],
   "source": [
    "coque.definir_CL(\"D\", \"Convection\", 10.0) # Côté air extérieur"
   ]
  },
  {
   "cell_type": "code",
   "execution_count": 15,
   "id": "e9260c92-ebd9-4e3a-8610-7cc751600643",
   "metadata": {},
   "outputs": [
    {
     "name": "stdout",
     "output_type": "stream",
     "text": [
      "Multicouche à 1 couche(s) conductrice(s) \n",
      "\td'épaisseur(s) en millimètres : [8.0]\n",
      "\tCondition limite à gauche : \"Convection\"\n",
      "\tCondition limite à droite : \"Convection\"\n"
     ]
    }
   ],
   "source": [
    "print(coque)"
   ]
  },
  {
   "cell_type": "markdown",
   "id": "5f491e6b-3f50-4293-8b34-465540d21747",
   "metadata": {},
   "source": [
    "## <span style=\"color:#008000;font-size:20px;font-weight:bold\">Étape 3 : Définition des cavités</span>"
   ]
  },
  {
   "cell_type": "markdown",
   "id": "6af11784-4522-4943-87a3-df6687c8e64a",
   "metadata": {},
   "source": [
    "## <span style=\"color:#A000A0;font-size:18px\">Ici, une seule cavité d'eau de 200 litres</span>"
   ]
  },
  {
   "cell_type": "code",
   "execution_count": 16,
   "id": "7cb0d836-4f7b-4776-bd3d-1a1526c3c0eb",
   "metadata": {},
   "outputs": [
    {
     "name": "stdout",
     "output_type": "stream",
     "text": [
      "Cavité à 2 parois :\n",
      "\tVolume : 200.00 l\n",
      "\tMasse volumique : 1000.00 kg/m^3\n",
      "\tCapacité calorique : 4200.00 J/K/kg\n",
      "\tTempérature initiale : 15.00 °C\n",
      "\tSurface de la paroi n°1 : 0.400 m²\n",
      "\tSurface de la paroi n°2 : 1.800 m²\n"
     ]
    }
   ],
   "source": [
    "cavite = Cavite(0.2, 1000.0, 4200.0,[(socle,\"D\",0.4),(coque,\"G\",1.8)], T0)\n",
    "print(cavite)"
   ]
  },
  {
   "cell_type": "markdown",
   "id": "179e7a15-6dcd-42b1-90d9-e7a6fedd1a27",
   "metadata": {},
   "source": [
    "## <span style=\"color:#008000;font-size:20px;font-weight:bold\">Étape 4 : Définition du système global</span>"
   ]
  },
  {
   "cell_type": "markdown",
   "id": "5ac3571c-6870-489b-8743-c5c18cb5afff",
   "metadata": {},
   "source": [
    "On spécifie ici la durée et la période d'échantillonnage"
   ]
  },
  {
   "cell_type": "code",
   "execution_count": 17,
   "id": "17e4d4a5-f3b1-45b0-9511-44f544067de8",
   "metadata": {},
   "outputs": [],
   "source": [
    "jour = 3600.*24\n",
    "STL = SystemeThermiqueLineaire(4*jour, 10.0, cavite)"
   ]
  },
  {
   "cell_type": "markdown",
   "id": "4e3905c3-44b8-46f3-9a50-487ed5300a09",
   "metadata": {},
   "source": [
    "## <span style=\"color:#008000;font-size:20px;font-weight:bold\">Étape 5 : Définition des signaux imposés et calcul de la solution</span>"
   ]
  },
  {
   "cell_type": "markdown",
   "id": "7bcebb1e-d06e-4717-ba52-c7806393d627",
   "metadata": {},
   "source": [
    "## <span style=\"color:#A000A0;font-size:18px\">5.1 $-$ Chauffage de l'aquarium par le socle</span>"
   ]
  },
  {
   "cell_type": "markdown",
   "id": "9b1053ba-ac07-4e96-bcc0-1970129d1947",
   "metadata": {},
   "source": [
    "* Définition et test de la fonction du temps"
   ]
  },
  {
   "cell_type": "code",
   "execution_count": 22,
   "id": "337d1af4-56a1-4bdd-8aab-869647c6d522",
   "metadata": {},
   "outputs": [
    {
     "data": {
      "text/plain": [
       "array([500., 500., 500., 500.,   0.,   0.,   0.,   0.,   0.,   0.,   0.,\n",
       "         0.,   0.,   0.,   0.,   0.,   0.,   0.,   0.,   0.,   0.,   0.,\n",
       "         0.,   0., 500.])"
      ]
     },
     "execution_count": 22,
     "metadata": {},
     "output_type": "execute_result"
    }
   ],
   "source": [
    "def chauf(t) : # Fonction vectorisée\n",
    "    h = (t/3600.0)%24.0  # Heure de la journée\n",
    "    return ((h>23)|(h<4))*500.0 # 500 W/m² s'il est allumé\n",
    "chauf( np.linspace(0,jour,25) )"
   ]
  },
  {
   "cell_type": "markdown",
   "id": "5a6d4f25-588b-41fd-972a-cdfbb19fe25e",
   "metadata": {},
   "source": [
    "* Définition des instants positifs ou nuls"
   ]
  },
  {
   "cell_type": "code",
   "execution_count": 23,
   "id": "39225b73-b29f-4ccf-8ceb-62947894fa43",
   "metadata": {},
   "outputs": [],
   "source": [
    "instants_positifs = STL.positiveTimeValues"
   ]
  },
  {
   "cell_type": "markdown",
   "id": "5684be99-6c7c-4a20-ad67-c109c3802cc4",
   "metadata": {},
   "source": [
    "* Définition du signal imposé sur le bord gauche du socle"
   ]
  },
  {
   "cell_type": "code",
   "execution_count": 24,
   "id": "a87293d2-b477-4bff-9bc2-2205bb55f6dc",
   "metadata": {},
   "outputs": [],
   "source": [
    "socle.definir_signal(\"G\", chauf(instants_positifs))"
   ]
  },
  {
   "cell_type": "markdown",
   "id": "860298b3-3d6a-4e8a-9831-b9b4391b6794",
   "metadata": {},
   "source": [
    "## <span style=\"color:#A000A0;font-size:18px\">5.2 $-$ Température extérieure</span>"
   ]
  },
  {
   "cell_type": "markdown",
   "id": "521dbcd7-bfe1-4e90-b9bf-3d825f2ccf24",
   "metadata": {},
   "source": [
    "* Définition et test de la fonction du temps"
   ]
  },
  {
   "cell_type": "code",
   "execution_count": 26,
   "id": "cf3f7d4e-053f-4232-93f5-c06237944fe1",
   "metadata": {},
   "outputs": [
    {
     "data": {
      "text/plain": [
       "array([15.06, 15.03, 15.34, 15.98, 16.88, 18.  , 19.25, 20.56, 21.82,\n",
       "       22.97, 23.91, 24.58, 24.94, 24.97, 24.66, 24.02, 23.12, 22.  ,\n",
       "       20.75, 19.44, 18.18, 17.03, 16.09, 15.42, 15.06])"
      ]
     },
     "execution_count": 26,
     "metadata": {},
     "output_type": "execute_result"
    }
   ],
   "source": [
    "def T_ext(t, Tinit=T0) :\n",
    "    # Constantes :\n",
    "    m,a,j,dp = 5.0, 0.15, 3600.0*24.0, 2.0*np.pi\n",
    "    # Signal renvoyé\n",
    "    return Tinit + m*(1-np.cos(dp*t/j-a))\n",
    "T_ext( np.linspace(0,jour,25) ).round(2)"
   ]
  },
  {
   "cell_type": "markdown",
   "id": "1d4857d9-fd46-4e4b-ae6f-52fca91872c2",
   "metadata": {},
   "source": [
    "* Définition du signal imposé sur le bord droit de la coque"
   ]
  },
  {
   "cell_type": "code",
   "execution_count": 27,
   "id": "d716ef95-7e4a-4d91-a7f5-3b6fd63add8d",
   "metadata": {},
   "outputs": [],
   "source": [
    "coque.definir_signal(\"D\", T_ext(instants_positifs))"
   ]
  },
  {
   "cell_type": "markdown",
   "id": "f0737a52-6d1d-4e8d-9fbd-34240fe4e4b9",
   "metadata": {},
   "source": [
    "## <span style=\"color:#A000A0;font-size:18px\">5.3 $-$ Calcul de la solution</span>"
   ]
  },
  {
   "cell_type": "code",
   "execution_count": 28,
   "id": "c8cda316-e6de-4420-9ad2-bd0b93c72a4c",
   "metadata": {},
   "outputs": [
    {
     "name": "stdout",
     "output_type": "stream",
     "text": [
      "SystemeThermiqueLineaire.calculer_maintenant...\n",
      "... Calcul effectué.\n"
     ]
    }
   ],
   "source": [
    "STL.calculer_maintenant()"
   ]
  },
  {
   "cell_type": "markdown",
   "id": "06894196-e9bc-4560-a35f-cacea46add28",
   "metadata": {},
   "source": [
    "## <span style=\"color:#008000;font-size:20px;font-weight:bold\">Étape 6 : Visualisation des résultats</span>"
   ]
  },
  {
   "cell_type": "markdown",
   "id": "7b338b12-51f4-4b7d-b03c-e18c21c845ff",
   "metadata": {},
   "source": [
    "* Instants en jours pour le tracé des courbes"
   ]
  },
  {
   "cell_type": "code",
   "execution_count": 32,
   "id": "a86046f8-78df-4768-9470-73595e1cdaa2",
   "metadata": {},
   "outputs": [],
   "source": [
    "instants = STL.timeValues\n",
    "t_en_jours = instants / jour"
   ]
  },
  {
   "cell_type": "markdown",
   "id": "07284e37-ef16-439d-8557-fb710d0e9ed5",
   "metadata": {},
   "source": [
    "* Tracé des signaux d'entrée"
   ]
  },
  {
   "cell_type": "code",
   "execution_count": 36,
   "id": "ac846c1d-e66d-4060-96a1-7f6d7cac2084",
   "metadata": {},
   "outputs": [
    {
     "data": {
      "image/png": "[encoded data removed]",
      "text/plain": [
       "<Figure size 1000x250 with 2 Axes>"
      ]
     },
     "metadata": {},
     "output_type": "display_data"
    }
   ],
   "source": [
    "fig_in = plt.figure(figsize=(10,2.5))\n",
    "ax_input = fig_in.subplots(1,1)\n",
    "ax_input2 = ax_input.twinx()\n",
    "ax_input.set_title(\"Signaux d'entrée\")\n",
    "plt.subplots_adjust(left=0.07, right=0.93, bottom=0.07, top=0.93,\n",
    "                    wspace=0.4, hspace=0.3)\n",
    "ax_input.plot(t_en_jours, socle.signal(\"G\"), \".r\", markersize=2)\n",
    "ax_input.set_ylabel(\"Puissance fournie [W/m²]\", color=(0.6,0,0))\n",
    "ax_input.grid()\n",
    "ax_input2.plot(t_en_jours, coque.signal(\"D\"), \".b\", markersize=2)\n",
    "ax_input2.set_ylabel(\"Température extérieure [°C]\",color=(0,0,0.8))\n",
    "ax_input.set_xlabel(\"Instant $t$ [jour]\") ;"
   ]
  },
  {
   "cell_type": "markdown",
   "id": "23dd888b-2f15-49b8-ad6f-a8c30a64e735",
   "metadata": {},
   "source": [
    "* Tracé des réponses calculées"
   ]
  },
  {
   "cell_type": "code",
   "execution_count": 38,
   "id": "a285dcb5-c886-4368-b8b5-967204721479",
   "metadata": {},
   "outputs": [
    {
     "data": {
      "image/png": "[encoded data removed]",
      "text/plain": [
       "<Figure size 1000x250 with 1 Axes>"
      ]
     },
     "metadata": {},
     "output_type": "display_data"
    }
   ],
   "source": [
    "fig_out = plt.figure(figsize=(10,2.5))\n",
    "ax_output = fig_out.subplots(1,1)\n",
    "ax_output.set_title(\"Résultats de la simulation\")\n",
    "plt.subplots_adjust(left=0.07, right=0.93, bottom=0.07, top=0.93,\n",
    "                    wspace=0.4, hspace=0.3)\n",
    "# Température au coeur de l'inox du socle\n",
    "_,T_inox,_ = socle.T_phi(1.5e-3) # milieu de l'inox\n",
    "ax_output.plot(t_en_jours, T_inox, \"-\", color=(0.8,0,0),\n",
    "               linewidth=1.2, label = \"T° inox\")\n",
    "# Température des parois de verre\n",
    "_,T_verre_int,_ = coque.T_phi(coque.X[0]) # intérieur\n",
    "_,T_verre_ext,_ = coque.T_phi(coque.X[-1]) # extérieur\n",
    "ax_output.plot(t_en_jours, T_verre_int, \"-\", color=(0,0,1),\n",
    "               linewidth=1.2, label = \"T° v.int.\")\n",
    "ax_output.plot(t_en_jours, T_verre_ext, \"-\", color=(0,0.5,0),\n",
    "               linewidth=1.2, label = \"T° v.ext.\")\n",
    "# Température de l'eau dans la cavité\n",
    "T_cav = STL.T_cavites[0]\n",
    "ax_output.set_xlabel(\"Instant $t$ [jour]\")\n",
    "ax_output.plot(t_en_jours, T_cav, \"-\", color=(0,0.4,0.8),\n",
    "               linewidth=2.0, label = \"T° eau\")\n",
    "# Finalisation du tracé\n",
    "ax_output.set_ylabel(\"Températures [°C]\")\n",
    "ax_output.grid()\n",
    "ax_output.legend(loc=\"best\", fontsize=10) ;"
   ]
  },
  {
   "cell_type": "code",
   "execution_count": null,
   "id": "6cd51b08-3e77-4829-b1c1-8e3ef45d16a8",
   "metadata": {},
   "outputs": [],
   "source": []
  }
 ],
 "metadata": {
  "kernelspec": {
   "display_name": "Python 3 (ipykernel)",
   "language": "python",
   "name": "python3"
  },
  "language_info": {
   "codemirror_mode": {
    "name": "ipython",
    "version": 3
   },
   "file_extension": ".py",
   "mimetype": "text/x-python",
   "name": "python",
   "nbconvert_exporter": "python",
   "pygments_lexer": "ipython3",
   "version": "3.10.14"
  }
 },
 "nbformat": 4,
 "nbformat_minor": 5
}
